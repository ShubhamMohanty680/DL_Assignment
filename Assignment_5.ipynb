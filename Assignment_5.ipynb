{
 "cells": [
  {
   "cell_type": "markdown",
   "id": "0dc89310",
   "metadata": {},
   "source": [
    "# Q.1"
   ]
  },
  {
   "cell_type": "code",
   "execution_count": 1,
   "id": "888d1a76",
   "metadata": {},
   "outputs": [
    {
     "name": "stderr",
     "output_type": "stream",
     "text": [
      "C:\\Users\\ASUS\\anaconda3\\lib\\site-packages\\scipy\\__init__.py:146: UserWarning: A NumPy version >=1.16.5 and <1.23.0 is required for this version of SciPy (detected version 1.24.3\n",
      "  warnings.warn(f\"A NumPy version >={np_minversion} and <{np_maxversion}\"\n"
     ]
    },
    {
     "name": "stdout",
     "output_type": "stream",
     "text": [
      "Tensorflow Version:2.13.0\n",
      "Keras Version:2.13.1\n"
     ]
    }
   ],
   "source": [
    "import tensorflow as tf\n",
    "import keras\n",
    "\n",
    "import warnings\n",
    "warnings.filterwarnings('ignore')\n",
    "\n",
    "print(f\"Tensorflow Version:{tf.__version__}\")\n",
    "print(f\"Keras Version:{keras.__version__}\")"
   ]
  },
  {
   "cell_type": "markdown",
   "id": "4bd6af01",
   "metadata": {},
   "source": [
    "# Q.2"
   ]
  },
  {
   "cell_type": "code",
   "execution_count": 2,
   "id": "fa080b9c",
   "metadata": {},
   "outputs": [
    {
     "data": {
      "text/plain": [
       "(1599, 12)"
      ]
     },
     "execution_count": 2,
     "metadata": {},
     "output_type": "execute_result"
    }
   ],
   "source": [
    "import pandas as pd\n",
    "\n",
    "df=pd.read_csv('wine.csv')\n",
    "df.shape"
   ]
  },
  {
   "cell_type": "markdown",
   "id": "dae65e64",
   "metadata": {},
   "source": [
    "# Q.3"
   ]
  },
  {
   "cell_type": "code",
   "execution_count": 3,
   "id": "9902563c",
   "metadata": {},
   "outputs": [
    {
     "data": {
      "text/plain": [
       "fixed acidity           0\n",
       "volatile acidity        0\n",
       "citric acid             0\n",
       "residual sugar          0\n",
       "chlorides               0\n",
       "free sulfur dioxide     0\n",
       "total sulfur dioxide    0\n",
       "density                 0\n",
       "pH                      0\n",
       "sulphates               0\n",
       "alcohol                 0\n",
       "quality                 0\n",
       "dtype: int64"
      ]
     },
     "execution_count": 3,
     "metadata": {},
     "output_type": "execute_result"
    }
   ],
   "source": [
    "#check for null values\n",
    "df.isna().sum()"
   ]
  },
  {
   "cell_type": "code",
   "execution_count": 4,
   "id": "f0885776",
   "metadata": {},
   "outputs": [
    {
     "name": "stdout",
     "output_type": "stream",
     "text": [
      "['quality']\n",
      "quality\n",
      "good       855\n",
      "bad        744\n",
      "dtype: int64\n"
     ]
    }
   ],
   "source": [
    "#Identifying categorical variables\n",
    "categorical_col=df.select_dtypes(include=['object','category'])\n",
    "categorical_col_names=list(categorical_col.columns) #including the quality column\n",
    "print(categorical_col_names)\n",
    "print(df[categorical_col_names].value_counts())"
   ]
  },
  {
   "cell_type": "code",
   "execution_count": 5,
   "id": "f8d024d1",
   "metadata": {},
   "outputs": [
    {
     "data": {
      "text/html": [
       "<div>\n",
       "<style scoped>\n",
       "    .dataframe tbody tr th:only-of-type {\n",
       "        vertical-align: middle;\n",
       "    }\n",
       "\n",
       "    .dataframe tbody tr th {\n",
       "        vertical-align: top;\n",
       "    }\n",
       "\n",
       "    .dataframe thead th {\n",
       "        text-align: right;\n",
       "    }\n",
       "</style>\n",
       "<table border=\"1\" class=\"dataframe\">\n",
       "  <thead>\n",
       "    <tr style=\"text-align: right;\">\n",
       "      <th></th>\n",
       "      <th>fixed acidity</th>\n",
       "      <th>volatile acidity</th>\n",
       "      <th>citric acid</th>\n",
       "      <th>residual sugar</th>\n",
       "      <th>chlorides</th>\n",
       "      <th>free sulfur dioxide</th>\n",
       "      <th>total sulfur dioxide</th>\n",
       "      <th>density</th>\n",
       "      <th>pH</th>\n",
       "      <th>sulphates</th>\n",
       "      <th>alcohol</th>\n",
       "      <th>quality</th>\n",
       "    </tr>\n",
       "  </thead>\n",
       "  <tbody>\n",
       "    <tr>\n",
       "      <th>0</th>\n",
       "      <td>7.4</td>\n",
       "      <td>0.70</td>\n",
       "      <td>0.00</td>\n",
       "      <td>1.9</td>\n",
       "      <td>0.076</td>\n",
       "      <td>11.0</td>\n",
       "      <td>34.0</td>\n",
       "      <td>0.9978</td>\n",
       "      <td>3.51</td>\n",
       "      <td>0.56</td>\n",
       "      <td>9.4</td>\n",
       "      <td>0</td>\n",
       "    </tr>\n",
       "    <tr>\n",
       "      <th>1</th>\n",
       "      <td>7.8</td>\n",
       "      <td>0.88</td>\n",
       "      <td>0.00</td>\n",
       "      <td>2.6</td>\n",
       "      <td>0.098</td>\n",
       "      <td>25.0</td>\n",
       "      <td>67.0</td>\n",
       "      <td>0.9968</td>\n",
       "      <td>3.20</td>\n",
       "      <td>0.68</td>\n",
       "      <td>9.8</td>\n",
       "      <td>0</td>\n",
       "    </tr>\n",
       "    <tr>\n",
       "      <th>2</th>\n",
       "      <td>7.8</td>\n",
       "      <td>0.76</td>\n",
       "      <td>0.04</td>\n",
       "      <td>2.3</td>\n",
       "      <td>0.092</td>\n",
       "      <td>15.0</td>\n",
       "      <td>54.0</td>\n",
       "      <td>0.9970</td>\n",
       "      <td>3.26</td>\n",
       "      <td>0.65</td>\n",
       "      <td>9.8</td>\n",
       "      <td>0</td>\n",
       "    </tr>\n",
       "    <tr>\n",
       "      <th>3</th>\n",
       "      <td>11.2</td>\n",
       "      <td>0.28</td>\n",
       "      <td>0.56</td>\n",
       "      <td>1.9</td>\n",
       "      <td>0.075</td>\n",
       "      <td>17.0</td>\n",
       "      <td>60.0</td>\n",
       "      <td>0.9980</td>\n",
       "      <td>3.16</td>\n",
       "      <td>0.58</td>\n",
       "      <td>9.8</td>\n",
       "      <td>1</td>\n",
       "    </tr>\n",
       "    <tr>\n",
       "      <th>4</th>\n",
       "      <td>7.4</td>\n",
       "      <td>0.70</td>\n",
       "      <td>0.00</td>\n",
       "      <td>1.9</td>\n",
       "      <td>0.076</td>\n",
       "      <td>11.0</td>\n",
       "      <td>34.0</td>\n",
       "      <td>0.9978</td>\n",
       "      <td>3.51</td>\n",
       "      <td>0.56</td>\n",
       "      <td>9.4</td>\n",
       "      <td>0</td>\n",
       "    </tr>\n",
       "  </tbody>\n",
       "</table>\n",
       "</div>"
      ],
      "text/plain": [
       "   fixed acidity  volatile acidity  citric acid  residual sugar  chlorides  \\\n",
       "0            7.4              0.70         0.00             1.9      0.076   \n",
       "1            7.8              0.88         0.00             2.6      0.098   \n",
       "2            7.8              0.76         0.04             2.3      0.092   \n",
       "3           11.2              0.28         0.56             1.9      0.075   \n",
       "4            7.4              0.70         0.00             1.9      0.076   \n",
       "\n",
       "   free sulfur dioxide  total sulfur dioxide  density    pH  sulphates  \\\n",
       "0                 11.0                  34.0   0.9978  3.51       0.56   \n",
       "1                 25.0                  67.0   0.9968  3.20       0.68   \n",
       "2                 15.0                  54.0   0.9970  3.26       0.65   \n",
       "3                 17.0                  60.0   0.9980  3.16       0.58   \n",
       "4                 11.0                  34.0   0.9978  3.51       0.56   \n",
       "\n",
       "   alcohol  quality  \n",
       "0      9.4        0  \n",
       "1      9.8        0  \n",
       "2      9.8        0  \n",
       "3      9.8        1  \n",
       "4      9.4        0  "
      ]
     },
     "execution_count": 5,
     "metadata": {},
     "output_type": "execute_result"
    }
   ],
   "source": [
    "#Encoding Categorical columns\n",
    "from sklearn.preprocessing import LabelEncoder\n",
    "\n",
    "label_encoder=LabelEncoder()\n",
    "df[categorical_col_names[0]]=label_encoder.fit_transform(df[categorical_col_names[0]])\n",
    "df.head()"
   ]
  },
  {
   "cell_type": "markdown",
   "id": "47b1e759",
   "metadata": {},
   "source": [
    "# Q.4"
   ]
  },
  {
   "cell_type": "code",
   "execution_count": 6,
   "id": "e4425807",
   "metadata": {},
   "outputs": [],
   "source": [
    "y=df.pop('quality')\n",
    "x=df"
   ]
  },
  {
   "cell_type": "markdown",
   "id": "13e8c27d",
   "metadata": {},
   "source": [
    "# Q.5"
   ]
  },
  {
   "cell_type": "code",
   "execution_count": 7,
   "id": "7a084c97",
   "metadata": {},
   "outputs": [
    {
     "name": "stdout",
     "output_type": "stream",
     "text": [
      "Training set size: 1023\n",
      "Validation set size: 256\n",
      "Test set size: 320\n"
     ]
    }
   ],
   "source": [
    "#Performing train-test split and dividing data into training, validation, and test datasets.\n",
    "\n",
    "from sklearn.model_selection import train_test_split\n",
    "\n",
    "#split the data into training and test sets\n",
    "x_train, x_test, y_train, y_test = train_test_split(x, y, test_size=0.2, random_state=42)\n",
    "#split the training set into training and validation sets\n",
    "x_train, x_val, y_train, y_val = train_test_split(x_train, y_train, test_size=0.2, random_state=42)\n",
    "\n",
    "print(\"Training set size:\", x_train.shape[0])\n",
    "print(\"Validation set size:\", x_val.shape[0])\n",
    "print(\"Test set size:\", x_test.shape[0])"
   ]
  },
  {
   "cell_type": "markdown",
   "id": "a0cd6607",
   "metadata": {},
   "source": [
    "# Q.6"
   ]
  },
  {
   "cell_type": "code",
   "execution_count": 8,
   "id": "ef40da28",
   "metadata": {},
   "outputs": [],
   "source": [
    "#Perform scaling on the dataset\n",
    "\n",
    "from sklearn.preprocessing import StandardScaler\n",
    "\n",
    "scaler = StandardScaler()\n",
    "\n",
    "x_train_scaled = scaler.fit_transform(x_train)\n",
    "x_val_scaled = scaler.transform(x_val)\n",
    "x_test_scaled = scaler.transform(x_test)"
   ]
  },
  {
   "cell_type": "markdown",
   "id": "987b9cd2",
   "metadata": {},
   "source": [
    "# Q.7 and Q.8"
   ]
  },
  {
   "cell_type": "code",
   "execution_count": 9,
   "id": "b44b5c6f",
   "metadata": {},
   "outputs": [],
   "source": [
    "#creating two hidden layers, output layer and Sequential Model\n",
    "\n",
    "input_shape = (x_train_scaled.shape[1],)\n",
    "\n",
    "model = keras.Sequential()\n",
    "model.add(keras.layers.Dense(64, activation='relu', input_shape=input_shape))\n",
    "model.add(keras.layers.Dense(32, activation='relu'))\n",
    "model.add(keras.layers.Dense(1, activation='sigmoid'))"
   ]
  },
  {
   "cell_type": "markdown",
   "id": "5db45942",
   "metadata": {},
   "source": [
    "# Q.9"
   ]
  },
  {
   "cell_type": "code",
   "execution_count": 10,
   "id": "456cd332",
   "metadata": {},
   "outputs": [
    {
     "name": "stdout",
     "output_type": "stream",
     "text": [
      "Model: \"sequential\"\n",
      "_________________________________________________________________\n",
      " Layer (type)                Output Shape              Param #   \n",
      "=================================================================\n",
      " dense (Dense)               (None, 64)                768       \n",
      "                                                                 \n",
      " dense_1 (Dense)             (None, 32)                2080      \n",
      "                                                                 \n",
      " dense_2 (Dense)             (None, 1)                 33        \n",
      "                                                                 \n",
      "=================================================================\n",
      "Total params: 2881 (11.25 KB)\n",
      "Trainable params: 2881 (11.25 KB)\n",
      "Non-trainable params: 0 (0.00 Byte)\n",
      "_________________________________________________________________\n"
     ]
    }
   ],
   "source": [
    "#Printing Model Architecture\n",
    "model.summary()"
   ]
  },
  {
   "cell_type": "markdown",
   "id": "68cf9900",
   "metadata": {},
   "source": [
    "# Q.10 and Q.11"
   ]
  },
  {
   "cell_type": "code",
   "execution_count": 11,
   "id": "08fd49f5",
   "metadata": {},
   "outputs": [],
   "source": [
    "#Use binary cross-entropy as the loss function, Adam optimizer, and include the metric ['accuracy'].\n",
    "#Compile the model with the specified loss function, optimizer, and metrics.\n",
    "\n",
    "model.compile(loss='binary_crossentropy', optimizer='adam', metrics=['accuracy'])"
   ]
  },
  {
   "cell_type": "markdown",
   "id": "f4574edd",
   "metadata": {},
   "source": [
    "# Q.12"
   ]
  },
  {
   "cell_type": "code",
   "execution_count": 15,
   "id": "20d73ccf",
   "metadata": {},
   "outputs": [
    {
     "name": "stdout",
     "output_type": "stream",
     "text": [
      "Epoch 1/30\n",
      "32/32 [==============================] - 1s 8ms/step - loss: 0.6434 - accuracy: 0.6520 - val_loss: 0.5942 - val_accuracy: 0.7227\n",
      "Epoch 2/30\n",
      "32/32 [==============================] - 0s 2ms/step - loss: 0.5551 - accuracy: 0.7419 - val_loss: 0.5572 - val_accuracy: 0.7461\n",
      "Epoch 3/30\n",
      "32/32 [==============================] - 0s 2ms/step - loss: 0.5233 - accuracy: 0.7546 - val_loss: 0.5477 - val_accuracy: 0.7656\n",
      "Epoch 4/30\n",
      "32/32 [==============================] - 0s 2ms/step - loss: 0.5094 - accuracy: 0.7625 - val_loss: 0.5472 - val_accuracy: 0.7656\n",
      "Epoch 5/30\n",
      "32/32 [==============================] - 0s 3ms/step - loss: 0.4987 - accuracy: 0.7605 - val_loss: 0.5419 - val_accuracy: 0.7773\n",
      "Epoch 6/30\n",
      "32/32 [==============================] - 0s 2ms/step - loss: 0.4899 - accuracy: 0.7615 - val_loss: 0.5404 - val_accuracy: 0.7695\n",
      "Epoch 7/30\n",
      "32/32 [==============================] - 0s 2ms/step - loss: 0.4850 - accuracy: 0.7595 - val_loss: 0.5403 - val_accuracy: 0.7734\n",
      "Epoch 8/30\n",
      "32/32 [==============================] - 0s 2ms/step - loss: 0.4794 - accuracy: 0.7586 - val_loss: 0.5407 - val_accuracy: 0.7695\n",
      "Epoch 9/30\n",
      "32/32 [==============================] - 0s 2ms/step - loss: 0.4740 - accuracy: 0.7703 - val_loss: 0.5352 - val_accuracy: 0.7695\n",
      "Epoch 10/30\n",
      "32/32 [==============================] - 0s 2ms/step - loss: 0.4689 - accuracy: 0.7674 - val_loss: 0.5360 - val_accuracy: 0.7812\n",
      "Epoch 11/30\n",
      "32/32 [==============================] - 0s 2ms/step - loss: 0.4661 - accuracy: 0.7674 - val_loss: 0.5369 - val_accuracy: 0.7852\n",
      "Epoch 12/30\n",
      "32/32 [==============================] - 0s 2ms/step - loss: 0.4618 - accuracy: 0.7664 - val_loss: 0.5334 - val_accuracy: 0.7734\n",
      "Epoch 13/30\n",
      "32/32 [==============================] - 0s 2ms/step - loss: 0.4580 - accuracy: 0.7781 - val_loss: 0.5420 - val_accuracy: 0.7695\n",
      "Epoch 14/30\n",
      "32/32 [==============================] - 0s 2ms/step - loss: 0.4550 - accuracy: 0.7722 - val_loss: 0.5356 - val_accuracy: 0.7734\n",
      "Epoch 15/30\n",
      "32/32 [==============================] - 0s 2ms/step - loss: 0.4506 - accuracy: 0.7703 - val_loss: 0.5379 - val_accuracy: 0.7773\n",
      "Epoch 16/30\n",
      "32/32 [==============================] - 0s 3ms/step - loss: 0.4480 - accuracy: 0.7771 - val_loss: 0.5426 - val_accuracy: 0.7773\n",
      "Epoch 17/30\n",
      "32/32 [==============================] - 0s 3ms/step - loss: 0.4432 - accuracy: 0.7801 - val_loss: 0.5360 - val_accuracy: 0.7812\n",
      "Epoch 18/30\n",
      "32/32 [==============================] - 0s 2ms/step - loss: 0.4455 - accuracy: 0.7810 - val_loss: 0.5292 - val_accuracy: 0.7852\n",
      "Epoch 19/30\n",
      "32/32 [==============================] - 0s 2ms/step - loss: 0.4397 - accuracy: 0.7849 - val_loss: 0.5366 - val_accuracy: 0.7852\n",
      "Epoch 20/30\n",
      "32/32 [==============================] - 0s 2ms/step - loss: 0.4364 - accuracy: 0.7820 - val_loss: 0.5402 - val_accuracy: 0.7773\n",
      "Epoch 21/30\n",
      "32/32 [==============================] - 0s 2ms/step - loss: 0.4326 - accuracy: 0.7879 - val_loss: 0.5355 - val_accuracy: 0.7812\n",
      "Epoch 22/30\n",
      "32/32 [==============================] - 0s 3ms/step - loss: 0.4295 - accuracy: 0.7898 - val_loss: 0.5331 - val_accuracy: 0.7734\n",
      "Epoch 23/30\n",
      "32/32 [==============================] - 0s 3ms/step - loss: 0.4269 - accuracy: 0.7967 - val_loss: 0.5336 - val_accuracy: 0.7695\n",
      "Epoch 24/30\n",
      "32/32 [==============================] - 0s 3ms/step - loss: 0.4221 - accuracy: 0.7947 - val_loss: 0.5455 - val_accuracy: 0.7773\n",
      "Epoch 25/30\n",
      "32/32 [==============================] - 0s 3ms/step - loss: 0.4214 - accuracy: 0.7947 - val_loss: 0.5449 - val_accuracy: 0.7734\n",
      "Epoch 26/30\n",
      "32/32 [==============================] - 0s 3ms/step - loss: 0.4169 - accuracy: 0.7986 - val_loss: 0.5412 - val_accuracy: 0.7773\n",
      "Epoch 27/30\n",
      "32/32 [==============================] - 0s 3ms/step - loss: 0.4139 - accuracy: 0.8065 - val_loss: 0.5441 - val_accuracy: 0.7812\n",
      "Epoch 28/30\n",
      "32/32 [==============================] - 0s 3ms/step - loss: 0.4109 - accuracy: 0.8025 - val_loss: 0.5422 - val_accuracy: 0.7773\n",
      "Epoch 29/30\n",
      "32/32 [==============================] - 0s 3ms/step - loss: 0.4086 - accuracy: 0.8055 - val_loss: 0.5405 - val_accuracy: 0.7852\n",
      "Epoch 30/30\n",
      "32/32 [==============================] - 0s 3ms/step - loss: 0.4054 - accuracy: 0.8094 - val_loss: 0.5438 - val_accuracy: 0.7695\n"
     ]
    },
    {
     "data": {
      "text/plain": [
       "<keras.src.callbacks.History at 0x1b33e953160>"
      ]
     },
     "execution_count": 15,
     "metadata": {},
     "output_type": "execute_result"
    }
   ],
   "source": [
    "#Fit the model to the data, incorporating the TensorBoard, Early Stopping, and ModelCheckpoint callbacks.\n",
    "\n",
    "model.fit(x_train_scaled, y_train, batch_size=32, epochs=30, validation_data=(x_val_scaled, y_val))"
   ]
  },
  {
   "cell_type": "markdown",
   "id": "132e154d",
   "metadata": {},
   "source": [
    "# Q.13"
   ]
  },
  {
   "cell_type": "code",
   "execution_count": 16,
   "id": "baeb7123",
   "metadata": {},
   "outputs": [
    {
     "name": "stdout",
     "output_type": "stream",
     "text": [
      "Layer 1 weights shape: (11, 64)\n",
      "Layer 1 biases shape: (64,)\n",
      "Layer 2 weights shape: (64, 32)\n",
      "Layer 2 biases shape: (32,)\n",
      "Layer 3 weights shape: (32, 1)\n",
      "Layer 3 biases shape: (1,)\n"
     ]
    }
   ],
   "source": [
    "#Get the model parameters(weights and biases)\n",
    "\n",
    "import numpy as np\n",
    "\n",
    "#save the trained weights\n",
    "model.save_weights('wine_weights.h5')\n",
    "\n",
    "#load the trained weights\n",
    "model.load_weights('wine_weights.h5')\n",
    "\n",
    "#obtain the parameters for each layer\n",
    "layer_parameters = []\n",
    "for layer in model.layers:\n",
    "    layer_parameters.append(layer.get_weights())\n",
    "\n",
    "#print the parameters for each layer\n",
    "for i, layer in enumerate(layer_parameters):\n",
    "    weights = layer[0]\n",
    "    biases = layer[1]\n",
    "    print(f\"Layer {i+1} weights shape: {np.shape(weights)}\")\n",
    "    print(f\"Layer {i+1} biases shape: {np.shape(biases)}\")"
   ]
  },
  {
   "cell_type": "markdown",
   "id": "d8e5ecc7",
   "metadata": {},
   "source": [
    "# Q.14"
   ]
  },
  {
   "cell_type": "code",
   "execution_count": 17,
   "id": "202ca1dc",
   "metadata": {},
   "outputs": [
    {
     "data": {
      "text/html": [
       "<div>\n",
       "<style scoped>\n",
       "    .dataframe tbody tr th:only-of-type {\n",
       "        vertical-align: middle;\n",
       "    }\n",
       "\n",
       "    .dataframe tbody tr th {\n",
       "        vertical-align: top;\n",
       "    }\n",
       "\n",
       "    .dataframe thead th {\n",
       "        text-align: right;\n",
       "    }\n",
       "</style>\n",
       "<table border=\"1\" class=\"dataframe\">\n",
       "  <thead>\n",
       "    <tr style=\"text-align: right;\">\n",
       "      <th></th>\n",
       "      <th>loss</th>\n",
       "      <th>accuracy</th>\n",
       "      <th>val_loss</th>\n",
       "      <th>val_accuracy</th>\n",
       "    </tr>\n",
       "  </thead>\n",
       "  <tbody>\n",
       "    <tr>\n",
       "      <th>0</th>\n",
       "      <td>0.643383</td>\n",
       "      <td>0.652004</td>\n",
       "      <td>0.594179</td>\n",
       "      <td>0.722656</td>\n",
       "    </tr>\n",
       "    <tr>\n",
       "      <th>1</th>\n",
       "      <td>0.555133</td>\n",
       "      <td>0.741935</td>\n",
       "      <td>0.557152</td>\n",
       "      <td>0.746094</td>\n",
       "    </tr>\n",
       "    <tr>\n",
       "      <th>2</th>\n",
       "      <td>0.523317</td>\n",
       "      <td>0.754643</td>\n",
       "      <td>0.547724</td>\n",
       "      <td>0.765625</td>\n",
       "    </tr>\n",
       "    <tr>\n",
       "      <th>3</th>\n",
       "      <td>0.509356</td>\n",
       "      <td>0.762463</td>\n",
       "      <td>0.547191</td>\n",
       "      <td>0.765625</td>\n",
       "    </tr>\n",
       "    <tr>\n",
       "      <th>4</th>\n",
       "      <td>0.498681</td>\n",
       "      <td>0.760508</td>\n",
       "      <td>0.541882</td>\n",
       "      <td>0.777344</td>\n",
       "    </tr>\n",
       "    <tr>\n",
       "      <th>5</th>\n",
       "      <td>0.489881</td>\n",
       "      <td>0.761486</td>\n",
       "      <td>0.540374</td>\n",
       "      <td>0.769531</td>\n",
       "    </tr>\n",
       "    <tr>\n",
       "      <th>6</th>\n",
       "      <td>0.485048</td>\n",
       "      <td>0.759531</td>\n",
       "      <td>0.540308</td>\n",
       "      <td>0.773438</td>\n",
       "    </tr>\n",
       "    <tr>\n",
       "      <th>7</th>\n",
       "      <td>0.479373</td>\n",
       "      <td>0.758553</td>\n",
       "      <td>0.540727</td>\n",
       "      <td>0.769531</td>\n",
       "    </tr>\n",
       "    <tr>\n",
       "      <th>8</th>\n",
       "      <td>0.474043</td>\n",
       "      <td>0.770283</td>\n",
       "      <td>0.535215</td>\n",
       "      <td>0.769531</td>\n",
       "    </tr>\n",
       "    <tr>\n",
       "      <th>9</th>\n",
       "      <td>0.468948</td>\n",
       "      <td>0.767351</td>\n",
       "      <td>0.536018</td>\n",
       "      <td>0.781250</td>\n",
       "    </tr>\n",
       "    <tr>\n",
       "      <th>10</th>\n",
       "      <td>0.466120</td>\n",
       "      <td>0.767351</td>\n",
       "      <td>0.536877</td>\n",
       "      <td>0.785156</td>\n",
       "    </tr>\n",
       "    <tr>\n",
       "      <th>11</th>\n",
       "      <td>0.461775</td>\n",
       "      <td>0.766373</td>\n",
       "      <td>0.533364</td>\n",
       "      <td>0.773438</td>\n",
       "    </tr>\n",
       "    <tr>\n",
       "      <th>12</th>\n",
       "      <td>0.457978</td>\n",
       "      <td>0.778104</td>\n",
       "      <td>0.541952</td>\n",
       "      <td>0.769531</td>\n",
       "    </tr>\n",
       "    <tr>\n",
       "      <th>13</th>\n",
       "      <td>0.455029</td>\n",
       "      <td>0.772238</td>\n",
       "      <td>0.535556</td>\n",
       "      <td>0.773438</td>\n",
       "    </tr>\n",
       "    <tr>\n",
       "      <th>14</th>\n",
       "      <td>0.450634</td>\n",
       "      <td>0.770283</td>\n",
       "      <td>0.537908</td>\n",
       "      <td>0.777344</td>\n",
       "    </tr>\n",
       "    <tr>\n",
       "      <th>15</th>\n",
       "      <td>0.448049</td>\n",
       "      <td>0.777126</td>\n",
       "      <td>0.542551</td>\n",
       "      <td>0.777344</td>\n",
       "    </tr>\n",
       "    <tr>\n",
       "      <th>16</th>\n",
       "      <td>0.443181</td>\n",
       "      <td>0.780059</td>\n",
       "      <td>0.536030</td>\n",
       "      <td>0.781250</td>\n",
       "    </tr>\n",
       "    <tr>\n",
       "      <th>17</th>\n",
       "      <td>0.445520</td>\n",
       "      <td>0.781036</td>\n",
       "      <td>0.529195</td>\n",
       "      <td>0.785156</td>\n",
       "    </tr>\n",
       "    <tr>\n",
       "      <th>18</th>\n",
       "      <td>0.439654</td>\n",
       "      <td>0.784946</td>\n",
       "      <td>0.536594</td>\n",
       "      <td>0.785156</td>\n",
       "    </tr>\n",
       "    <tr>\n",
       "      <th>19</th>\n",
       "      <td>0.436391</td>\n",
       "      <td>0.782014</td>\n",
       "      <td>0.540162</td>\n",
       "      <td>0.777344</td>\n",
       "    </tr>\n",
       "    <tr>\n",
       "      <th>20</th>\n",
       "      <td>0.432610</td>\n",
       "      <td>0.787879</td>\n",
       "      <td>0.535498</td>\n",
       "      <td>0.781250</td>\n",
       "    </tr>\n",
       "    <tr>\n",
       "      <th>21</th>\n",
       "      <td>0.429522</td>\n",
       "      <td>0.789834</td>\n",
       "      <td>0.533072</td>\n",
       "      <td>0.773438</td>\n",
       "    </tr>\n",
       "    <tr>\n",
       "      <th>22</th>\n",
       "      <td>0.426866</td>\n",
       "      <td>0.796676</td>\n",
       "      <td>0.533557</td>\n",
       "      <td>0.769531</td>\n",
       "    </tr>\n",
       "    <tr>\n",
       "      <th>23</th>\n",
       "      <td>0.422105</td>\n",
       "      <td>0.794721</td>\n",
       "      <td>0.545461</td>\n",
       "      <td>0.777344</td>\n",
       "    </tr>\n",
       "    <tr>\n",
       "      <th>24</th>\n",
       "      <td>0.421422</td>\n",
       "      <td>0.794721</td>\n",
       "      <td>0.544910</td>\n",
       "      <td>0.773438</td>\n",
       "    </tr>\n",
       "    <tr>\n",
       "      <th>25</th>\n",
       "      <td>0.416852</td>\n",
       "      <td>0.798631</td>\n",
       "      <td>0.541219</td>\n",
       "      <td>0.777344</td>\n",
       "    </tr>\n",
       "    <tr>\n",
       "      <th>26</th>\n",
       "      <td>0.413902</td>\n",
       "      <td>0.806452</td>\n",
       "      <td>0.544143</td>\n",
       "      <td>0.781250</td>\n",
       "    </tr>\n",
       "    <tr>\n",
       "      <th>27</th>\n",
       "      <td>0.410941</td>\n",
       "      <td>0.802542</td>\n",
       "      <td>0.542212</td>\n",
       "      <td>0.777344</td>\n",
       "    </tr>\n",
       "    <tr>\n",
       "      <th>28</th>\n",
       "      <td>0.408567</td>\n",
       "      <td>0.805474</td>\n",
       "      <td>0.540533</td>\n",
       "      <td>0.785156</td>\n",
       "    </tr>\n",
       "    <tr>\n",
       "      <th>29</th>\n",
       "      <td>0.405437</td>\n",
       "      <td>0.809384</td>\n",
       "      <td>0.543796</td>\n",
       "      <td>0.769531</td>\n",
       "    </tr>\n",
       "  </tbody>\n",
       "</table>\n",
       "</div>"
      ],
      "text/plain": [
       "        loss  accuracy  val_loss  val_accuracy\n",
       "0   0.643383  0.652004  0.594179      0.722656\n",
       "1   0.555133  0.741935  0.557152      0.746094\n",
       "2   0.523317  0.754643  0.547724      0.765625\n",
       "3   0.509356  0.762463  0.547191      0.765625\n",
       "4   0.498681  0.760508  0.541882      0.777344\n",
       "5   0.489881  0.761486  0.540374      0.769531\n",
       "6   0.485048  0.759531  0.540308      0.773438\n",
       "7   0.479373  0.758553  0.540727      0.769531\n",
       "8   0.474043  0.770283  0.535215      0.769531\n",
       "9   0.468948  0.767351  0.536018      0.781250\n",
       "10  0.466120  0.767351  0.536877      0.785156\n",
       "11  0.461775  0.766373  0.533364      0.773438\n",
       "12  0.457978  0.778104  0.541952      0.769531\n",
       "13  0.455029  0.772238  0.535556      0.773438\n",
       "14  0.450634  0.770283  0.537908      0.777344\n",
       "15  0.448049  0.777126  0.542551      0.777344\n",
       "16  0.443181  0.780059  0.536030      0.781250\n",
       "17  0.445520  0.781036  0.529195      0.785156\n",
       "18  0.439654  0.784946  0.536594      0.785156\n",
       "19  0.436391  0.782014  0.540162      0.777344\n",
       "20  0.432610  0.787879  0.535498      0.781250\n",
       "21  0.429522  0.789834  0.533072      0.773438\n",
       "22  0.426866  0.796676  0.533557      0.769531\n",
       "23  0.422105  0.794721  0.545461      0.777344\n",
       "24  0.421422  0.794721  0.544910      0.773438\n",
       "25  0.416852  0.798631  0.541219      0.777344\n",
       "26  0.413902  0.806452  0.544143      0.781250\n",
       "27  0.410941  0.802542  0.542212      0.777344\n",
       "28  0.408567  0.805474  0.540533      0.785156\n",
       "29  0.405437  0.809384  0.543796      0.769531"
      ]
     },
     "execution_count": 17,
     "metadata": {},
     "output_type": "execute_result"
    }
   ],
   "source": [
    "#Store the model's training history as a Pandas DataFrame.\n",
    "history = pd.DataFrame(model.history.history)\n",
    "history"
   ]
  },
  {
   "cell_type": "markdown",
   "id": "9eb43818",
   "metadata": {},
   "source": [
    "# Q.15"
   ]
  },
  {
   "cell_type": "code",
   "execution_count": 18,
   "id": "f78c7a40",
   "metadata": {},
   "outputs": [
    {
     "data": {
      "image/png": "[encoded data removed]",
      "text/plain": [
       "<Figure size 640x480 with 1 Axes>"
      ]
     },
     "metadata": {},
     "output_type": "display_data"
    }
   ],
   "source": [
    "#Plot the model's training history.\n",
    "\n",
    "import matplotlib.pyplot as plt\n",
    "\n",
    "plt.plot(history['loss'], label='Training Loss')\n",
    "plt.plot(history['val_loss'], label='Validation Loss')\n",
    "plt.plot(history['accuracy'], label='Training Accuracy')\n",
    "plt.plot(history['val_accuracy'], label='Validation Accuracy')\n",
    "plt.xlabel('Epoch')\n",
    "plt.ylabel('Metric')\n",
    "plt.title('Model Training History')\n",
    "plt.legend()\n",
    "plt.show()"
   ]
  },
  {
   "cell_type": "markdown",
   "id": "5b0d9204",
   "metadata": {},
   "source": [
    "# Q.16"
   ]
  },
  {
   "cell_type": "code",
   "execution_count": 19,
   "id": "9b9df09c",
   "metadata": {},
   "outputs": [
    {
     "name": "stdout",
     "output_type": "stream",
     "text": [
      "10/10 [==============================] - 0s 2ms/step - loss: 0.4743 - accuracy: 0.7656\n",
      "Test Loss: 0.47427600622177124\n",
      "Test Accuracy: 0.765625\n"
     ]
    }
   ],
   "source": [
    "#Evaluate the model's performance using the test data.\n",
    "\n",
    "loss, accuracy = model.evaluate(x_test_scaled, y_test)\n",
    "print('Test Loss:', loss)\n",
    "print('Test Accuracy:', accuracy)"
   ]
  }
 ],
 "metadata": {
  "kernelspec": {
   "display_name": "Python 3 (ipykernel)",
   "language": "python",
   "name": "python3"
  },
  "language_info": {
   "codemirror_mode": {
    "name": "ipython",
    "version": 3
   },
   "file_extension": ".py",
   "mimetype": "text/x-python",
   "name": "python",
   "nbconvert_exporter": "python",
   "pygments_lexer": "ipython3",
   "version": "3.9.12"
  }
 },
 "nbformat": 4,
 "nbformat_minor": 5
}
