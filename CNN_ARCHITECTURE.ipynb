{
 "cells": [
  {
   "cell_type": "markdown",
   "id": "c45fbfa3",
   "metadata": {},
   "source": [
    "# Understanding Pooling and Padding in CNN"
   ]
  },
  {
   "cell_type": "markdown",
   "id": "65d0339e",
   "metadata": {},
   "source": [
    "### Q.1"
   ]
  },
  {
   "cell_type": "markdown",
   "id": "3419e1d4",
   "metadata": {},
   "source": [
    "Pooling is a fundamental operation in Convolutional Neural Networks (CNNs) used primarily for dimensionality reduction and feature extraction. Its main purpose is to downsample the spatial dimensions of feature maps, which helps reduce the computational complexity of the network and controls overfitting. The benefits of pooling include:\n",
    "\n",
    "1. **Spatial Hierarchical Representation:** Pooling preserves the most important features while discarding less relevant details, creating a hierarchical representation of features. This helps in capturing increasingly abstract and higher-level information in deeper layers of the network. \n",
    "\n",
    "\n",
    "2. **Translation Invariance:** Pooling makes the network less sensitive to small spatial translations of features, which can be useful for tasks like object recognition, where the position of an object in an image may vary.  \n",
    "\n",
    "\n",
    "3. **Reduced Computational Load:** Smaller feature maps after pooling require fewer parameters and computations in subsequent layers, making the network more computationally efficient.  \n",
    "\n",
    "\n",
    "4. **Regularization:** Pooling can act as a form of regularization by preventing overfitting, as it reduces the spatial resolution of feature maps and encourages the network to focus on more dominant features.  \n",
    "\n",
    "\n",
    "5. **Memory Efficiency:** Smaller feature maps after pooling require less memory for storage and computation, making it more feasible to train deeper networks."
   ]
  },
  {
   "cell_type": "markdown",
   "id": "b1ce40f7",
   "metadata": {},
   "source": [
    "### Q.2"
   ]
  },
  {
   "cell_type": "markdown",
   "id": "97a077af",
   "metadata": {},
   "source": [
    "1. **Max Pooling:**\n",
    "\n",
    "- In Max Pooling, for each pooling region (typically a small grid or window), the maximum value is retained while the other values are discarded.  \n",
    "- It captures the most prominent feature within the local region, emphasizing sharp edges, corners, and distinctive patterns.  \n",
    "- Max Pooling is often used when you want to highlight the most important and distinctive features in an image.  \n",
    "- It provides translation invariance, meaning it helps the network recognize features regardless of their exact position within the pooling region.  \n",
    "\n",
    "\n",
    "2. **Min Pooling:**\n",
    "\n",
    "- In Min Pooling, for each pooling region, the minimum value is retained while the other values are discarded.  \n",
    "- Min Pooling tends to emphasize the least prominent features within the local region, such as dark spots or low-intensity areas.\n",
    "- It can be used in specific situations where you want to detect the least prominent features or outliers in an image.  \n",
    "- Min Pooling is less common than Max Pooling and is not as widely used in standard CNN architectures."
   ]
  },
  {
   "cell_type": "markdown",
   "id": "258b40bc",
   "metadata": {},
   "source": [
    "### Q.3"
   ]
  },
  {
   "cell_type": "markdown",
   "id": "02182e18",
   "metadata": {},
   "source": [
    "Padding is the process of adding extra border pixels around the input image or feature map before applying convolutional operations. It is significant for several reasons:\n",
    "\n",
    "- **Preservation of Spatial Dimensions:** Padding allows the output feature maps to have the same spatial dimensions as the input. Without padding, the spatial dimensions would decrease after each convolutional layer, potentially losing important spatial information.\n",
    "\n",
    "- **Centering Convolution:** Padding ensures that the convolutional filter's center aligns with the pixels in the input, which is important for learning spatial hierarchies and maintaining symmetry in the network.\n",
    "\n",
    "- **Avoiding Information Loss:** Padding helps prevent the loss of information at the borders of the input image, ensuring that the convolutional operation considers all parts of the input."
   ]
  },
  {
   "cell_type": "markdown",
   "id": "75ef6999",
   "metadata": {},
   "source": [
    "### Q.4"
   ]
  },
  {
   "cell_type": "markdown",
   "id": "8d3d5918",
   "metadata": {},
   "source": [
    "Zero-padding and valid-padding are two common types of padding used in CNNs, and they have different effects on the output feature map size:\n",
    "\n",
    "- **Zero-Padding:** In zero-padding, extra rows and columns filled with zeros are added around the input image or feature map. This ensures that the output feature map has the same spatial dimensions as the input. Zero-padding is commonly used when you want to preserve spatial information, especially at the edges of the image.  \n",
    "\n",
    "\n",
    "- **Valid-Padding:** In valid-padding (also known as no-padding), no extra rows or columns are added around the input. As a result, the spatial dimensions of the output feature map are reduced compared to the input. Valid-padding is used when you want to reduce the spatial dimensions and focus on extracting essential features."
   ]
  },
  {
   "cell_type": "markdown",
   "id": "99eb6e7d",
   "metadata": {},
   "source": [
    "# Exploring LeNet"
   ]
  },
  {
   "cell_type": "markdown",
   "id": "58847260",
   "metadata": {},
   "source": [
    "### Q.1"
   ]
  },
  {
   "cell_type": "markdown",
   "id": "64971f3f",
   "metadata": {},
   "source": [
    "LeNet-5 is a classic convolutional neural network (CNN) architecture developed by Yann LeCun in the early 1990s. It was designed primarily for handwritten digit recognition, making it one of the pioneering architectures in the field of deep learning and computer vision. LeNet-5 played a significant role in popularizing the use of convolutional layers for feature extraction in image data."
   ]
  },
  {
   "cell_type": "markdown",
   "id": "349e9ab0",
   "metadata": {},
   "source": [
    "### Q.2"
   ]
  },
  {
   "cell_type": "markdown",
   "id": "248613ae",
   "metadata": {},
   "source": [
    "LeNet-5 consists of several key components, each serving a specific purpose in the network:\n",
    "\n",
    "- **Input Layer:** LeNet-5 takes grayscale images of fixed size as input.\n",
    "\n",
    "- **Convolutional Layers:** LeNet-5 includes two sets of convolutional layers, each followed by a subsampling (pooling) layer.\n",
    "\n",
    "    - The first convolutional layer extracts low-level features, such as edges and simple textures.\n",
    "    - The second convolutional layer extracts higher-level features by combining information from the first layer.\n",
    "    - Subsampling layers perform down-sampling, reducing the spatial dimensions of the feature maps and providing translational invariance.  \n",
    "\n",
    "\n",
    "- **Fully Connected Layers:** After the convolutional and subsampling layers, LeNet-5 has three fully connected layers.\n",
    "\n",
    "    - These layers flatten the feature maps and connect all neurons in one layer to all neurons in the next.\n",
    "    - The last fully connected layer produces the final classification output.  \n",
    "\n",
    "- **Activation Functions:** LeNet-5 typically uses the sigmoid or hyperbolic tangent (tanh) activation functions in the hidden layers. A softmax activation function is used in the output layer for multi-class classification.\n",
    "\n",
    "- **Pooling:** LeNet-5 uses average pooling in the subsampling layers to reduce the spatial dimensions and capture essential information.\n",
    "\n",
    "- **Weight Sharing:** A key innovation in LeNet-5 is weight sharing, where the same set of weights is used for different regions of the input image. This reduces the number of parameters in the network and helps with generalization."
   ]
  },
  {
   "cell_type": "markdown",
   "id": "84eb2e58",
   "metadata": {},
   "source": [
    "### Q.3"
   ]
  },
  {
   "cell_type": "markdown",
   "id": "53b47d48",
   "metadata": {},
   "source": [
    "**Advantages:**\n",
    "\n",
    "- **Lightweight:** Compared to recent CNN architectures, LeNet-5 is relatively lightweight in terms of the number of parameters and computational resources required. This can be advantageous for applications with limited computational resources.  \n",
    "- **Effective Feature Extraction:** It demonstrated the effectiveness of convolutional layers in automatically learning hierarchical features from images, which is crucial for image classification tasks.\n",
    "- **Efficient Training:** Due to its relatively small size compared to modern architectures, LeNet-5 can be trained with limited computational resources.\n",
    "\n",
    "**Limitations:**\n",
    "\n",
    "- **Limited Complexity:** LeNet-5 is a relatively shallow network compared to modern deep learning architectures like ResNet and Inception. It may struggle with more complex image recognition tasks.  \n",
    "- **Fixed Input Size:** It works with fixed-size input images, which can be a limitation for applications requiring variable-sized inputs.\n",
    "- **Sigmoid Activation:** The use of sigmoid or tanh activations can lead to vanishing gradient problems in deeper networks. Modern networks often use ReLU (Rectified Linear Unit) activations.\n",
    "- **Noisy Inputs:** LeNet-5 may not perform well with noisy or distorted input images, as it was primarily designed for clean handwritten digits."
   ]
  },
  {
   "cell_type": "markdown",
   "id": "0d11f79f",
   "metadata": {},
   "source": [
    "### Q.4"
   ]
  },
  {
   "cell_type": "code",
   "execution_count": 1,
   "id": "3287b903",
   "metadata": {},
   "outputs": [
    {
     "name": "stdout",
     "output_type": "stream",
     "text": [
      "Epoch 1/10\n",
      "1875/1875 [==============================] - 21s 10ms/step - loss: 0.1954 - accuracy: 0.9406 - val_loss: 0.0654 - val_accuracy: 0.9801\n",
      "Epoch 2/10\n",
      "1875/1875 [==============================] - 20s 11ms/step - loss: 0.0718 - accuracy: 0.9780 - val_loss: 0.0525 - val_accuracy: 0.9836\n",
      "Epoch 3/10\n",
      "1875/1875 [==============================] - 20s 11ms/step - loss: 0.0504 - accuracy: 0.9846 - val_loss: 0.0440 - val_accuracy: 0.9871\n",
      "Epoch 4/10\n",
      "1875/1875 [==============================] - 18s 10ms/step - loss: 0.0406 - accuracy: 0.9867 - val_loss: 0.0452 - val_accuracy: 0.9867\n",
      "Epoch 5/10\n",
      "1875/1875 [==============================] - 20s 11ms/step - loss: 0.0320 - accuracy: 0.9900 - val_loss: 0.0398 - val_accuracy: 0.9881\n",
      "Epoch 6/10\n",
      "1875/1875 [==============================] - 20s 10ms/step - loss: 0.0275 - accuracy: 0.9912 - val_loss: 0.0289 - val_accuracy: 0.9916\n",
      "Epoch 7/10\n",
      "1875/1875 [==============================] - 20s 11ms/step - loss: 0.0243 - accuracy: 0.9921 - val_loss: 0.0472 - val_accuracy: 0.9854\n",
      "Epoch 8/10\n",
      "1875/1875 [==============================] - 19s 10ms/step - loss: 0.0198 - accuracy: 0.9934 - val_loss: 0.0565 - val_accuracy: 0.9848\n",
      "Epoch 9/10\n",
      "1875/1875 [==============================] - 19s 10ms/step - loss: 0.0175 - accuracy: 0.9943 - val_loss: 0.0326 - val_accuracy: 0.9904\n",
      "Epoch 10/10\n",
      "1875/1875 [==============================] - 18s 10ms/step - loss: 0.0148 - accuracy: 0.9952 - val_loss: 0.0350 - val_accuracy: 0.9899\n",
      "313/313 [==============================] - 2s 5ms/step - loss: 0.0350 - accuracy: 0.9899\n",
      "Test accuracy: 0.9898999929428101\n"
     ]
    },
    {
     "data": {
      "image/png": "[encoded data removed]",
      "text/plain": [
       "<Figure size 640x480 with 1 Axes>"
      ]
     },
     "metadata": {},
     "output_type": "display_data"
    }
   ],
   "source": [
    "import tensorflow as tf\n",
    "from tensorflow.keras import datasets, layers, models\n",
    "import matplotlib.pyplot as plt\n",
    "\n",
    "# Load the MNIST dataset\n",
    "(train_images, train_labels), (test_images, test_labels) = datasets.mnist.load_data()\n",
    "\n",
    "# Preprocess the data\n",
    "train_images = train_images.reshape((60000, 28, 28, 1))\n",
    "test_images = test_images.reshape((10000, 28, 28, 1))\n",
    "train_images, test_images = train_images / 255.0, test_images / 255.0\n",
    "\n",
    "# Create the LeNet-5 model\n",
    "model = models.Sequential([\n",
    "    layers.Conv2D(6, (5, 5), activation='relu', input_shape=(28, 28, 1)),\n",
    "    layers.MaxPooling2D((2, 2)),\n",
    "    layers.Conv2D(16, (5, 5), activation='relu'),\n",
    "    layers.MaxPooling2D((2, 2)),\n",
    "    layers.Flatten(),\n",
    "    layers.Dense(120, activation='relu'),\n",
    "    layers.Dense(84, activation='relu'),\n",
    "    layers.Dense(10, activation='softmax')\n",
    "])\n",
    "\n",
    "# Compile the model\n",
    "model.compile(optimizer='adam',\n",
    "              loss='sparse_categorical_crossentropy',\n",
    "              metrics=['accuracy'])\n",
    "\n",
    "# Train the model\n",
    "history = model.fit(train_images, train_labels, epochs=10, \n",
    "                    validation_data=(test_images, test_labels))\n",
    "\n",
    "# Evaluate the model\n",
    "test_loss, test_acc = model.evaluate(test_images, test_labels)\n",
    "print(f'Test accuracy: {test_acc}')\n",
    "\n",
    "# Plot training history\n",
    "plt.plot(history.history['accuracy'], label='accuracy')\n",
    "plt.plot(history.history['val_accuracy'], label = 'val_accuracy')\n",
    "plt.xlabel('Epoch')\n",
    "plt.ylabel('Accuracy')\n",
    "plt.ylim([0, 1])\n",
    "plt.legend(loc='lower right')\n",
    "plt.show()\n"
   ]
  },
  {
   "cell_type": "markdown",
   "id": "32d7bbe2",
   "metadata": {},
   "source": [
    "# Analyzing AlexNet"
   ]
  },
  {
   "cell_type": "markdown",
   "id": "e5cbf9c3",
   "metadata": {},
   "source": [
    "### Q.1"
   ]
  },
  {
   "cell_type": "markdown",
   "id": "81a78c79",
   "metadata": {},
   "source": [
    "AlexNet is a deep convolutional neural network (CNN) architecture that gained significant attention and marked a breakthrough in computer vision when it won the ImageNet Large Scale Visual Recognition Challenge (ILSVRC) in 2012. Developed by Alex Krizhevsky, Ilya Sutskever, and Geoffrey Hinton, AlexNet demonstrated the power of deep learning in image classification tasks."
   ]
  },
  {
   "cell_type": "markdown",
   "id": "0141f849",
   "metadata": {},
   "source": [
    "### Q.2"
   ]
  },
  {
   "cell_type": "markdown",
   "id": "569f313e",
   "metadata": {},
   "source": [
    "AlexNet introduced several key architectural innovations that contributed to its breakthrough performance:\n",
    "\n",
    "- **Deep Architecture:** AlexNet was one of the first CNNs to have a relatively deep architecture compared to previous models. It consisted of eight layers, including five convolutional layers followed by three fully connected layers.\n",
    "\n",
    "- **Rectified Linear Unit (ReLU) Activations:** Instead of traditional activation functions like sigmoid or tanh, AlexNet used ReLU activations in its hidden layers. ReLU helps mitigate the vanishing gradient problem, enabling faster training and better convergence.\n",
    "\n",
    "- **Local Response Normalization (LRN):** AlexNet employed LRN after the ReLU activations in the first few layers. LRN enhanced the network's ability to generalize by normalizing neuron activations and promoting competition among adjacent neurons.\n",
    "\n",
    "- **Overlapping Pooling:** Unlike traditional non-overlapping pooling layers, AlexNet used overlapping max-pooling layers with a stride smaller than the pool size. This allowed for better translation invariance and spatial hierarchies.\n",
    "\n",
    "- **Dropout Regularization:** Dropout was applied to the fully connected layers during training, which helped reduce overfitting by randomly deactivating a fraction of neurons during each forward and backward pass.\n",
    "\n",
    "- **Parallel Processing:** AlexNet was designed to take advantage of the computational power of GPUs, allowing for efficient parallel processing of convolutions and reducing training time."
   ]
  },
  {
   "cell_type": "markdown",
   "id": "a1f3ea0d",
   "metadata": {},
   "source": [
    "### Q.3"
   ]
  },
  {
   "cell_type": "markdown",
   "id": "9e72205b",
   "metadata": {},
   "source": [
    "**Role of Layers in AlexNet:**\n",
    "\n",
    "- **Convolutional Layers:** The convolutional layers in AlexNet are responsible for feature extraction. The first convolutional layer detects simple features like edges, while subsequent layers capture increasingly complex and abstract features. These layers are followed by ReLU activations and LRN in the early layers.  \n",
    "\n",
    "\n",
    "- **Pooling Layers:** Max-pooling layers in AlexNet downsample the feature maps, reducing their spatial dimensions and providing translation invariance. The use of overlapping pooling helps capture more information.  \n",
    "\n",
    "\n",
    "- **Fully Connected Layers:** The fully connected layers at the end of AlexNet combine the features learned from convolutional and pooling layers and perform the final classification. Dropout is applied to these layers for regularization.  "
   ]
  },
  {
   "cell_type": "markdown",
   "id": "b44857c8",
   "metadata": {},
   "source": [
    "### Q.4"
   ]
  },
  {
   "cell_type": "code",
   "execution_count": 11,
   "id": "8c682c61",
   "metadata": {},
   "outputs": [],
   "source": [
    "import tensorflow as tf\n",
    "from tensorflow.keras import layers, models, datasets\n",
    "\n",
    "# Load and preprocess CIFAR-10 data\n",
    "(train_images, train_labels), (test_images, test_labels) = datasets.cifar10.load_data()\n",
    "train_images, test_images = train_images / 255.0, test_images / 255.0\n",
    "\n",
    "# Create a simplified AlexNet-like model for CIFAR-10\n",
    "model = models.Sequential([\n",
    "    layers.Conv2D(96, (3, 3), activation='relu', input_shape=(32, 32, 3)),\n",
    "    layers.MaxPooling2D((2, 2)),\n",
    "    \n",
    "    layers.Conv2D(256, (3, 3), padding='same', activation='relu'),\n",
    "    layers.MaxPooling2D((2, 2)),\n",
    "    \n",
    "    layers.Conv2D(384, (3, 3), padding='same', activation='relu'),\n",
    "    layers.Conv2D(384, (3, 3), padding='same', activation='relu'),\n",
    "    layers.Conv2D(256, (3, 3), padding='same', activation='relu'),\n",
    "    layers.MaxPooling2D((2, 2)),\n",
    "    \n",
    "    layers.Flatten(),\n",
    "    layers.Dense(512, activation='relu'),\n",
    "    layers.Dropout(0.5),\n",
    "    layers.Dense(10, activation='softmax')\n",
    "])\n",
    "\n",
    "# Compile the model\n",
    "model.compile(optimizer='adam',\n",
    "              loss='sparse_categorical_crossentropy',\n",
    "              metrics=['accuracy'])\n",
    "\n",
    "# Train the model for fewer epochs to reduce training time\n",
    "history = model.fit(train_images, train_labels, epochs=5, validation_data=(test_images, test_labels))\n",
    "\n",
    "# Evaluate the model\n",
    "test_loss, test_acc = model.evaluate(test_images, test_labels)\n",
    "print(f'Test accuracy: {test_acc}')\n"
   ]
  },
  {
   "attachments": {
    "image.png": {
     "image/png": "[encoded data removed]"
    }
   },
   "cell_type": "markdown",
   "id": "6f09d150",
   "metadata": {},
   "source": [
    "![image.png](attachment:image.png)"
   ]
  }
 ],
 "metadata": {
  "kernelspec": {
   "display_name": "Python 3 (ipykernel)",
   "language": "python",
   "name": "python3"
  },
  "language_info": {
   "codemirror_mode": {
    "name": "ipython",
    "version": 3
   },
   "file_extension": ".py",
   "mimetype": "text/x-python",
   "name": "python",
   "nbconvert_exporter": "python",
   "pygments_lexer": "ipython3",
   "version": "3.9.12"
  }
 },
 "nbformat": 4,
 "nbformat_minor": 5
}
