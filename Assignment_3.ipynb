{
 "cells": [
  {
   "cell_type": "markdown",
   "id": "0dc89310",
   "metadata": {},
   "source": [
    "# Q.1"
   ]
  },
  {
   "cell_type": "code",
   "execution_count": 3,
   "id": "888d1a76",
   "metadata": {},
   "outputs": [
    {
     "name": "stderr",
     "output_type": "stream",
     "text": [
      "C:\\Users\\ASUS\\anaconda3\\lib\\site-packages\\scipy\\__init__.py:146: UserWarning: A NumPy version >=1.16.5 and <1.23.0 is required for this version of SciPy (detected version 1.24.3\n",
      "  warnings.warn(f\"A NumPy version >={np_minversion} and <{np_maxversion}\"\n"
     ]
    },
    {
     "name": "stdout",
     "output_type": "stream",
     "text": [
      "Tensorflow Version:2.13.0\n",
      "Keras Version:2.13.1\n"
     ]
    }
   ],
   "source": [
    "import tensorflow as tf\n",
    "import keras\n",
    "\n",
    "import warnings\n",
    "warnings.filterwarnings('ignore')\n",
    "\n",
    "print(f\"Tensorflow Version:{tf.__version__}\")\n",
    "print(f\"Keras Version:{keras.__version__}\")"
   ]
  },
  {
   "cell_type": "markdown",
   "id": "4bd6af01",
   "metadata": {},
   "source": [
    "# Q.2"
   ]
  },
  {
   "cell_type": "code",
   "execution_count": 6,
   "id": "fa080b9c",
   "metadata": {},
   "outputs": [
    {
     "data": {
      "text/plain": [
       "(1599, 12)"
      ]
     },
     "execution_count": 6,
     "metadata": {},
     "output_type": "execute_result"
    }
   ],
   "source": [
    "import pandas as pd\n",
    "\n",
    "df=pd.read_csv('wine.csv')\n",
    "df.shape"
   ]
  },
  {
   "cell_type": "markdown",
   "id": "dae65e64",
   "metadata": {},
   "source": [
    "# Q.3"
   ]
  },
  {
   "cell_type": "code",
   "execution_count": 7,
   "id": "9902563c",
   "metadata": {},
   "outputs": [
    {
     "data": {
      "text/plain": [
       "fixed acidity           0\n",
       "volatile acidity        0\n",
       "citric acid             0\n",
       "residual sugar          0\n",
       "chlorides               0\n",
       "free sulfur dioxide     0\n",
       "total sulfur dioxide    0\n",
       "density                 0\n",
       "pH                      0\n",
       "sulphates               0\n",
       "alcohol                 0\n",
       "quality                 0\n",
       "dtype: int64"
      ]
     },
     "execution_count": 7,
     "metadata": {},
     "output_type": "execute_result"
    }
   ],
   "source": [
    "#check for null values\n",
    "df.isna().sum()"
   ]
  },
  {
   "cell_type": "code",
   "execution_count": 11,
   "id": "f0885776",
   "metadata": {},
   "outputs": [
    {
     "name": "stdout",
     "output_type": "stream",
     "text": [
      "['quality']\n",
      "quality\n",
      "good       855\n",
      "bad        744\n",
      "dtype: int64\n"
     ]
    }
   ],
   "source": [
    "#Identifying categorical variables\n",
    "categorical_col=df.select_dtypes(include=['object','category'])\n",
    "categorical_col_names=list(categorical_col.columns) #including the quality column\n",
    "print(categorical_col_names)\n",
    "print(df[categorical_col_names].value_counts())"
   ]
  },
  {
   "cell_type": "code",
   "execution_count": 13,
   "id": "f8d024d1",
   "metadata": {},
   "outputs": [
    {
     "data": {
      "text/html": [
       "<div>\n",
       "<style scoped>\n",
       "    .dataframe tbody tr th:only-of-type {\n",
       "        vertical-align: middle;\n",
       "    }\n",
       "\n",
       "    .dataframe tbody tr th {\n",
       "        vertical-align: top;\n",
       "    }\n",
       "\n",
       "    .dataframe thead th {\n",
       "        text-align: right;\n",
       "    }\n",
       "</style>\n",
       "<table border=\"1\" class=\"dataframe\">\n",
       "  <thead>\n",
       "    <tr style=\"text-align: right;\">\n",
       "      <th></th>\n",
       "      <th>fixed acidity</th>\n",
       "      <th>volatile acidity</th>\n",
       "      <th>citric acid</th>\n",
       "      <th>residual sugar</th>\n",
       "      <th>chlorides</th>\n",
       "      <th>free sulfur dioxide</th>\n",
       "      <th>total sulfur dioxide</th>\n",
       "      <th>density</th>\n",
       "      <th>pH</th>\n",
       "      <th>sulphates</th>\n",
       "      <th>alcohol</th>\n",
       "      <th>quality</th>\n",
       "    </tr>\n",
       "  </thead>\n",
       "  <tbody>\n",
       "    <tr>\n",
       "      <th>0</th>\n",
       "      <td>7.4</td>\n",
       "      <td>0.70</td>\n",
       "      <td>0.00</td>\n",
       "      <td>1.9</td>\n",
       "      <td>0.076</td>\n",
       "      <td>11.0</td>\n",
       "      <td>34.0</td>\n",
       "      <td>0.9978</td>\n",
       "      <td>3.51</td>\n",
       "      <td>0.56</td>\n",
       "      <td>9.4</td>\n",
       "      <td>0</td>\n",
       "    </tr>\n",
       "    <tr>\n",
       "      <th>1</th>\n",
       "      <td>7.8</td>\n",
       "      <td>0.88</td>\n",
       "      <td>0.00</td>\n",
       "      <td>2.6</td>\n",
       "      <td>0.098</td>\n",
       "      <td>25.0</td>\n",
       "      <td>67.0</td>\n",
       "      <td>0.9968</td>\n",
       "      <td>3.20</td>\n",
       "      <td>0.68</td>\n",
       "      <td>9.8</td>\n",
       "      <td>0</td>\n",
       "    </tr>\n",
       "    <tr>\n",
       "      <th>2</th>\n",
       "      <td>7.8</td>\n",
       "      <td>0.76</td>\n",
       "      <td>0.04</td>\n",
       "      <td>2.3</td>\n",
       "      <td>0.092</td>\n",
       "      <td>15.0</td>\n",
       "      <td>54.0</td>\n",
       "      <td>0.9970</td>\n",
       "      <td>3.26</td>\n",
       "      <td>0.65</td>\n",
       "      <td>9.8</td>\n",
       "      <td>0</td>\n",
       "    </tr>\n",
       "    <tr>\n",
       "      <th>3</th>\n",
       "      <td>11.2</td>\n",
       "      <td>0.28</td>\n",
       "      <td>0.56</td>\n",
       "      <td>1.9</td>\n",
       "      <td>0.075</td>\n",
       "      <td>17.0</td>\n",
       "      <td>60.0</td>\n",
       "      <td>0.9980</td>\n",
       "      <td>3.16</td>\n",
       "      <td>0.58</td>\n",
       "      <td>9.8</td>\n",
       "      <td>1</td>\n",
       "    </tr>\n",
       "    <tr>\n",
       "      <th>4</th>\n",
       "      <td>7.4</td>\n",
       "      <td>0.70</td>\n",
       "      <td>0.00</td>\n",
       "      <td>1.9</td>\n",
       "      <td>0.076</td>\n",
       "      <td>11.0</td>\n",
       "      <td>34.0</td>\n",
       "      <td>0.9978</td>\n",
       "      <td>3.51</td>\n",
       "      <td>0.56</td>\n",
       "      <td>9.4</td>\n",
       "      <td>0</td>\n",
       "    </tr>\n",
       "  </tbody>\n",
       "</table>\n",
       "</div>"
      ],
      "text/plain": [
       "   fixed acidity  volatile acidity  citric acid  residual sugar  chlorides  \\\n",
       "0            7.4              0.70         0.00             1.9      0.076   \n",
       "1            7.8              0.88         0.00             2.6      0.098   \n",
       "2            7.8              0.76         0.04             2.3      0.092   \n",
       "3           11.2              0.28         0.56             1.9      0.075   \n",
       "4            7.4              0.70         0.00             1.9      0.076   \n",
       "\n",
       "   free sulfur dioxide  total sulfur dioxide  density    pH  sulphates  \\\n",
       "0                 11.0                  34.0   0.9978  3.51       0.56   \n",
       "1                 25.0                  67.0   0.9968  3.20       0.68   \n",
       "2                 15.0                  54.0   0.9970  3.26       0.65   \n",
       "3                 17.0                  60.0   0.9980  3.16       0.58   \n",
       "4                 11.0                  34.0   0.9978  3.51       0.56   \n",
       "\n",
       "   alcohol  quality  \n",
       "0      9.4        0  \n",
       "1      9.8        0  \n",
       "2      9.8        0  \n",
       "3      9.8        1  \n",
       "4      9.4        0  "
      ]
     },
     "execution_count": 13,
     "metadata": {},
     "output_type": "execute_result"
    }
   ],
   "source": [
    "#Encoding Categorical columns\n",
    "from sklearn.preprocessing import LabelEncoder\n",
    "\n",
    "label_encoder=LabelEncoder()\n",
    "df[categorical_col_names[0]]=label_encoder.fit_transform(df[categorical_col_names[0]])\n",
    "df.head()"
   ]
  },
  {
   "cell_type": "markdown",
   "id": "47b1e759",
   "metadata": {},
   "source": [
    "# Q.4"
   ]
  },
  {
   "cell_type": "code",
   "execution_count": 18,
   "id": "e4425807",
   "metadata": {},
   "outputs": [],
   "source": [
    "y=df.pop('quality')\n",
    "x=df"
   ]
  },
  {
   "cell_type": "markdown",
   "id": "13e8c27d",
   "metadata": {},
   "source": [
    "# Q.5"
   ]
  },
  {
   "cell_type": "code",
   "execution_count": 20,
   "id": "7a084c97",
   "metadata": {},
   "outputs": [
    {
     "name": "stdout",
     "output_type": "stream",
     "text": [
      "Training set size: 1023\n",
      "Validation set size: 256\n",
      "Test set size: 320\n"
     ]
    }
   ],
   "source": [
    "#Performing train-test split and dividing data into training, validation, and test datasets.\n",
    "\n",
    "from sklearn.model_selection import train_test_split\n",
    "\n",
    "#split the data into training and test sets\n",
    "x_train, x_test, y_train, y_test = train_test_split(x, y, test_size=0.2, random_state=42)\n",
    "#split the training set into training and validation sets\n",
    "x_train, x_val, y_train, y_val = train_test_split(x_train, y_train, test_size=0.2, random_state=42)\n",
    "\n",
    "print(\"Training set size:\", x_train.shape[0])\n",
    "print(\"Validation set size:\", x_val.shape[0])\n",
    "print(\"Test set size:\", x_test.shape[0])"
   ]
  },
  {
   "cell_type": "markdown",
   "id": "a0cd6607",
   "metadata": {},
   "source": [
    "# Q.6"
   ]
  },
  {
   "cell_type": "code",
   "execution_count": 21,
   "id": "ef40da28",
   "metadata": {},
   "outputs": [],
   "source": [
    "#Perform scaling on the dataset\n",
    "\n",
    "from sklearn.preprocessing import StandardScaler\n",
    "\n",
    "scaler = StandardScaler()\n",
    "\n",
    "x_train_scaled = scaler.fit_transform(x_train)\n",
    "x_val_scaled = scaler.transform(x_val)\n",
    "x_test_scaled = scaler.transform(x_test)"
   ]
  },
  {
   "cell_type": "markdown",
   "id": "987b9cd2",
   "metadata": {},
   "source": [
    "# Q.7 and Q.8"
   ]
  },
  {
   "cell_type": "code",
   "execution_count": 22,
   "id": "b44b5c6f",
   "metadata": {},
   "outputs": [],
   "source": [
    "#creating two hidden layers, output layer and Sequential Model\n",
    "\n",
    "input_shape = (x_train_scaled.shape[1],)\n",
    "\n",
    "model = keras.Sequential()\n",
    "model.add(keras.layers.Dense(64, activation='relu', input_shape=input_shape))\n",
    "model.add(keras.layers.Dense(32, activation='relu'))\n",
    "model.add(keras.layers.Dense(1, activation='sigmoid'))"
   ]
  },
  {
   "cell_type": "markdown",
   "id": "5db45942",
   "metadata": {},
   "source": [
    "# Q.9"
   ]
  },
  {
   "cell_type": "code",
   "execution_count": 23,
   "id": "09c7ac2a",
   "metadata": {},
   "outputs": [],
   "source": [
    "#Implement a TensorBoard callback to visualize and monitor the model's training process.\n",
    "\n",
    "tensorboard_callback = keras.callbacks.TensorBoard(log_dir='./logs', histogram_freq=1)"
   ]
  },
  {
   "cell_type": "markdown",
   "id": "1693ac49",
   "metadata": {},
   "source": [
    "# Q.10"
   ]
  },
  {
   "cell_type": "code",
   "execution_count": 24,
   "id": "c823b285",
   "metadata": {},
   "outputs": [],
   "source": [
    "#Using Early Stopping to prevent overfitting\n",
    "\n",
    "early_stopping_callback = keras.callbacks.EarlyStopping(monitor='val_loss', patience=3)"
   ]
  },
  {
   "cell_type": "markdown",
   "id": "3396a95c",
   "metadata": {},
   "source": [
    "# Q.11"
   ]
  },
  {
   "cell_type": "code",
   "execution_count": 25,
   "id": "5e93a786",
   "metadata": {},
   "outputs": [],
   "source": [
    "#Implement a ModelCheckpoint callback to save the best model \n",
    "\n",
    "checkpoint_callback = keras.callbacks.ModelCheckpoint(filepath='best_model.h5', monitor='val_loss', save_best_only=True)"
   ]
  },
  {
   "cell_type": "markdown",
   "id": "942c8315",
   "metadata": {},
   "source": [
    "# Q.12"
   ]
  },
  {
   "cell_type": "code",
   "execution_count": 26,
   "id": "456cd332",
   "metadata": {},
   "outputs": [
    {
     "name": "stdout",
     "output_type": "stream",
     "text": [
      "Model: \"sequential\"\n",
      "_________________________________________________________________\n",
      " Layer (type)                Output Shape              Param #   \n",
      "=================================================================\n",
      " dense (Dense)               (None, 64)                768       \n",
      "                                                                 \n",
      " dense_1 (Dense)             (None, 32)                2080      \n",
      "                                                                 \n",
      " dense_2 (Dense)             (None, 1)                 33        \n",
      "                                                                 \n",
      "=================================================================\n",
      "Total params: 2881 (11.25 KB)\n",
      "Trainable params: 2881 (11.25 KB)\n",
      "Non-trainable params: 0 (0.00 Byte)\n",
      "_________________________________________________________________\n"
     ]
    }
   ],
   "source": [
    "#Printing Model Summary\n",
    "model.summary()"
   ]
  },
  {
   "cell_type": "markdown",
   "id": "68cf9900",
   "metadata": {},
   "source": [
    "# Q.13 and Q.14"
   ]
  },
  {
   "cell_type": "code",
   "execution_count": 27,
   "id": "08fd49f5",
   "metadata": {},
   "outputs": [],
   "source": [
    "#Use binary cross-entropy as the loss function, Adam optimizer, and include the metric ['accuracy'].\n",
    "#Compile the model with the specified loss function, optimizer, and metrics.\n",
    "\n",
    "model.compile(loss='binary_crossentropy', optimizer='adam', metrics=['accuracy'])"
   ]
  },
  {
   "cell_type": "markdown",
   "id": "f4574edd",
   "metadata": {},
   "source": [
    "# Q.15"
   ]
  },
  {
   "cell_type": "code",
   "execution_count": 28,
   "id": "20d73ccf",
   "metadata": {},
   "outputs": [
    {
     "name": "stdout",
     "output_type": "stream",
     "text": [
      "Epoch 1/30\n",
      "32/32 [==============================] - 2s 15ms/step - loss: 0.6698 - accuracy: 0.5640 - val_loss: 0.6376 - val_accuracy: 0.6562\n",
      "Epoch 2/30\n",
      "32/32 [==============================] - 0s 6ms/step - loss: 0.5826 - accuracy: 0.7155 - val_loss: 0.5949 - val_accuracy: 0.7188\n",
      "Epoch 3/30\n",
      "32/32 [==============================] - 0s 6ms/step - loss: 0.5363 - accuracy: 0.7361 - val_loss: 0.5698 - val_accuracy: 0.7539\n",
      "Epoch 4/30\n",
      "32/32 [==============================] - 0s 5ms/step - loss: 0.5151 - accuracy: 0.7429 - val_loss: 0.5663 - val_accuracy: 0.7695\n",
      "Epoch 5/30\n",
      "32/32 [==============================] - 0s 5ms/step - loss: 0.5025 - accuracy: 0.7449 - val_loss: 0.5541 - val_accuracy: 0.7656\n",
      "Epoch 6/30\n",
      "32/32 [==============================] - 0s 4ms/step - loss: 0.4935 - accuracy: 0.7507 - val_loss: 0.5544 - val_accuracy: 0.7695\n",
      "Epoch 7/30\n",
      "32/32 [==============================] - 0s 5ms/step - loss: 0.4873 - accuracy: 0.7586 - val_loss: 0.5517 - val_accuracy: 0.7734\n",
      "Epoch 8/30\n",
      "32/32 [==============================] - 0s 5ms/step - loss: 0.4820 - accuracy: 0.7605 - val_loss: 0.5516 - val_accuracy: 0.7695\n",
      "Epoch 9/30\n",
      "32/32 [==============================] - 0s 4ms/step - loss: 0.4775 - accuracy: 0.7644 - val_loss: 0.5531 - val_accuracy: 0.7695\n",
      "Epoch 10/30\n",
      "32/32 [==============================] - 0s 5ms/step - loss: 0.4727 - accuracy: 0.7654 - val_loss: 0.5463 - val_accuracy: 0.7812\n",
      "Epoch 11/30\n",
      "32/32 [==============================] - 0s 5ms/step - loss: 0.4660 - accuracy: 0.7703 - val_loss: 0.5442 - val_accuracy: 0.7852\n",
      "Epoch 12/30\n",
      "32/32 [==============================] - 0s 4ms/step - loss: 0.4641 - accuracy: 0.7801 - val_loss: 0.5453 - val_accuracy: 0.7812\n",
      "Epoch 13/30\n",
      "32/32 [==============================] - 0s 4ms/step - loss: 0.4589 - accuracy: 0.7810 - val_loss: 0.5508 - val_accuracy: 0.7891\n",
      "Epoch 14/30\n",
      "32/32 [==============================] - 0s 4ms/step - loss: 0.4551 - accuracy: 0.7781 - val_loss: 0.5455 - val_accuracy: 0.7812\n"
     ]
    },
    {
     "data": {
      "text/plain": [
       "<keras.src.callbacks.History at 0x1dfecf4e340>"
      ]
     },
     "execution_count": 28,
     "metadata": {},
     "output_type": "execute_result"
    }
   ],
   "source": [
    "#Fit the model to the data, incorporating the TensorBoard, Early Stopping, and ModelCheckpoint callbacks.\n",
    "\n",
    "model.fit(x_train_scaled, y_train, batch_size=32, epochs=30, validation_data=(x_val_scaled, y_val), callbacks=[early_stopping_callback,checkpoint_callback])"
   ]
  },
  {
   "cell_type": "markdown",
   "id": "132e154d",
   "metadata": {},
   "source": [
    "# Q.16"
   ]
  },
  {
   "cell_type": "code",
   "execution_count": 29,
   "id": "baeb7123",
   "metadata": {},
   "outputs": [
    {
     "name": "stdout",
     "output_type": "stream",
     "text": [
      "Model: \"sequential\"\n",
      "_________________________________________________________________\n",
      " Layer (type)                Output Shape              Param #   \n",
      "=================================================================\n",
      " dense (Dense)               (None, 64)                768       \n",
      "                                                                 \n",
      " dense_1 (Dense)             (None, 32)                2080      \n",
      "                                                                 \n",
      " dense_2 (Dense)             (None, 1)                 33        \n",
      "                                                                 \n",
      "=================================================================\n",
      "Total params: 2881 (11.25 KB)\n",
      "Trainable params: 2881 (11.25 KB)\n",
      "Non-trainable params: 0 (0.00 Byte)\n",
      "_________________________________________________________________\n"
     ]
    }
   ],
   "source": [
    "#Get the model parameters.\n",
    "\n",
    "model.summary()"
   ]
  },
  {
   "cell_type": "markdown",
   "id": "d8e5ecc7",
   "metadata": {},
   "source": [
    "# Q.17"
   ]
  },
  {
   "cell_type": "code",
   "execution_count": 30,
   "id": "202ca1dc",
   "metadata": {},
   "outputs": [
    {
     "data": {
      "text/html": [
       "<div>\n",
       "<style scoped>\n",
       "    .dataframe tbody tr th:only-of-type {\n",
       "        vertical-align: middle;\n",
       "    }\n",
       "\n",
       "    .dataframe tbody tr th {\n",
       "        vertical-align: top;\n",
       "    }\n",
       "\n",
       "    .dataframe thead th {\n",
       "        text-align: right;\n",
       "    }\n",
       "</style>\n",
       "<table border=\"1\" class=\"dataframe\">\n",
       "  <thead>\n",
       "    <tr style=\"text-align: right;\">\n",
       "      <th></th>\n",
       "      <th>loss</th>\n",
       "      <th>accuracy</th>\n",
       "      <th>val_loss</th>\n",
       "      <th>val_accuracy</th>\n",
       "    </tr>\n",
       "  </thead>\n",
       "  <tbody>\n",
       "    <tr>\n",
       "      <th>0</th>\n",
       "      <td>0.669818</td>\n",
       "      <td>0.564027</td>\n",
       "      <td>0.637646</td>\n",
       "      <td>0.656250</td>\n",
       "    </tr>\n",
       "    <tr>\n",
       "      <th>1</th>\n",
       "      <td>0.582553</td>\n",
       "      <td>0.715542</td>\n",
       "      <td>0.594900</td>\n",
       "      <td>0.718750</td>\n",
       "    </tr>\n",
       "    <tr>\n",
       "      <th>2</th>\n",
       "      <td>0.536303</td>\n",
       "      <td>0.736070</td>\n",
       "      <td>0.569778</td>\n",
       "      <td>0.753906</td>\n",
       "    </tr>\n",
       "    <tr>\n",
       "      <th>3</th>\n",
       "      <td>0.515106</td>\n",
       "      <td>0.742913</td>\n",
       "      <td>0.566327</td>\n",
       "      <td>0.769531</td>\n",
       "    </tr>\n",
       "    <tr>\n",
       "      <th>4</th>\n",
       "      <td>0.502489</td>\n",
       "      <td>0.744868</td>\n",
       "      <td>0.554092</td>\n",
       "      <td>0.765625</td>\n",
       "    </tr>\n",
       "    <tr>\n",
       "      <th>5</th>\n",
       "      <td>0.493475</td>\n",
       "      <td>0.750733</td>\n",
       "      <td>0.554445</td>\n",
       "      <td>0.769531</td>\n",
       "    </tr>\n",
       "    <tr>\n",
       "      <th>6</th>\n",
       "      <td>0.487296</td>\n",
       "      <td>0.758553</td>\n",
       "      <td>0.551728</td>\n",
       "      <td>0.773438</td>\n",
       "    </tr>\n",
       "    <tr>\n",
       "      <th>7</th>\n",
       "      <td>0.481960</td>\n",
       "      <td>0.760508</td>\n",
       "      <td>0.551628</td>\n",
       "      <td>0.769531</td>\n",
       "    </tr>\n",
       "    <tr>\n",
       "      <th>8</th>\n",
       "      <td>0.477456</td>\n",
       "      <td>0.764418</td>\n",
       "      <td>0.553080</td>\n",
       "      <td>0.769531</td>\n",
       "    </tr>\n",
       "    <tr>\n",
       "      <th>9</th>\n",
       "      <td>0.472749</td>\n",
       "      <td>0.765396</td>\n",
       "      <td>0.546337</td>\n",
       "      <td>0.781250</td>\n",
       "    </tr>\n",
       "    <tr>\n",
       "      <th>10</th>\n",
       "      <td>0.465993</td>\n",
       "      <td>0.770283</td>\n",
       "      <td>0.544157</td>\n",
       "      <td>0.785156</td>\n",
       "    </tr>\n",
       "    <tr>\n",
       "      <th>11</th>\n",
       "      <td>0.464080</td>\n",
       "      <td>0.780059</td>\n",
       "      <td>0.545250</td>\n",
       "      <td>0.781250</td>\n",
       "    </tr>\n",
       "    <tr>\n",
       "      <th>12</th>\n",
       "      <td>0.458884</td>\n",
       "      <td>0.781036</td>\n",
       "      <td>0.550837</td>\n",
       "      <td>0.789062</td>\n",
       "    </tr>\n",
       "    <tr>\n",
       "      <th>13</th>\n",
       "      <td>0.455089</td>\n",
       "      <td>0.778104</td>\n",
       "      <td>0.545509</td>\n",
       "      <td>0.781250</td>\n",
       "    </tr>\n",
       "  </tbody>\n",
       "</table>\n",
       "</div>"
      ],
      "text/plain": [
       "        loss  accuracy  val_loss  val_accuracy\n",
       "0   0.669818  0.564027  0.637646      0.656250\n",
       "1   0.582553  0.715542  0.594900      0.718750\n",
       "2   0.536303  0.736070  0.569778      0.753906\n",
       "3   0.515106  0.742913  0.566327      0.769531\n",
       "4   0.502489  0.744868  0.554092      0.765625\n",
       "5   0.493475  0.750733  0.554445      0.769531\n",
       "6   0.487296  0.758553  0.551728      0.773438\n",
       "7   0.481960  0.760508  0.551628      0.769531\n",
       "8   0.477456  0.764418  0.553080      0.769531\n",
       "9   0.472749  0.765396  0.546337      0.781250\n",
       "10  0.465993  0.770283  0.544157      0.785156\n",
       "11  0.464080  0.780059  0.545250      0.781250\n",
       "12  0.458884  0.781036  0.550837      0.789062\n",
       "13  0.455089  0.778104  0.545509      0.781250"
      ]
     },
     "execution_count": 30,
     "metadata": {},
     "output_type": "execute_result"
    }
   ],
   "source": [
    "#Store the model's training history as a Pandas DataFrame.\n",
    "history = pd.DataFrame(model.history.history)\n",
    "history"
   ]
  },
  {
   "cell_type": "markdown",
   "id": "9eb43818",
   "metadata": {},
   "source": [
    "# Q.18"
   ]
  },
  {
   "cell_type": "code",
   "execution_count": 31,
   "id": "f78c7a40",
   "metadata": {},
   "outputs": [
    {
     "data": {
      "image/png": "[encoded data removed]",
      "text/plain": [
       "<Figure size 640x480 with 1 Axes>"
      ]
     },
     "metadata": {},
     "output_type": "display_data"
    }
   ],
   "source": [
    "#Plot the model's training history.\n",
    "\n",
    "import matplotlib.pyplot as plt\n",
    "\n",
    "plt.plot(history['loss'], label='Training Loss')\n",
    "plt.plot(history['val_loss'], label='Validation Loss')\n",
    "plt.plot(history['accuracy'], label='Training Accuracy')\n",
    "plt.plot(history['val_accuracy'], label='Validation Accuracy')\n",
    "plt.xlabel('Epoch')\n",
    "plt.ylabel('Metric')\n",
    "plt.title('Model Training History')\n",
    "plt.legend()\n",
    "plt.show()"
   ]
  },
  {
   "cell_type": "markdown",
   "id": "5b0d9204",
   "metadata": {},
   "source": [
    "# Q.19"
   ]
  },
  {
   "cell_type": "code",
   "execution_count": 32,
   "id": "9b9df09c",
   "metadata": {},
   "outputs": [
    {
     "name": "stdout",
     "output_type": "stream",
     "text": [
      "10/10 [==============================] - 0s 3ms/step - loss: 0.5020 - accuracy: 0.7500\n",
      "Test Loss: 0.5019925832748413\n",
      "Test Accuracy: 0.75\n"
     ]
    }
   ],
   "source": [
    "#Evaluate the model's performance using the test data.\n",
    "\n",
    "loss, accuracy = model.evaluate(x_test_scaled, y_test)\n",
    "print('Test Loss:', loss)\n",
    "print('Test Accuracy:', accuracy)"
   ]
  }
 ],
 "metadata": {
  "kernelspec": {
   "display_name": "Python 3 (ipykernel)",
   "language": "python",
   "name": "python3"
  },
  "language_info": {
   "codemirror_mode": {
    "name": "ipython",
    "version": 3
   },
   "file_extension": ".py",
   "mimetype": "text/x-python",
   "name": "python",
   "nbconvert_exporter": "python",
   "pygments_lexer": "ipython3",
   "version": "3.9.12"
  }
 },
 "nbformat": 4,
 "nbformat_minor": 5
}
