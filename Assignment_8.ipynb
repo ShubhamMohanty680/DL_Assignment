{
 "cells": [
  {
   "cell_type": "markdown",
   "id": "f8ee3b5d",
   "metadata": {},
   "source": [
    "# Q.1"
   ]
  },
  {
   "cell_type": "markdown",
   "id": "8dafc2f4",
   "metadata": {},
   "source": [
    "TensorFlow primarily uses tensors as the fundamental data structure for representing and manipulating data. Tensors are multi-dimensional arrays that can hold data of various types. While tensors are the core data structure, TensorFlow also provides other data structures and abstractions for convenience and compatibility with various machine learning tasks. Here are some of the key data structures used in TensorFlow:\n",
    "\n",
    "- **Variables:** Variables are mutable tensors that can be updated during training. They are often used to store the learnable parameters of a machine learning model, such as weights and biases. TensorFlow provides the tf.Variable class for creating and manipulating variables.\n",
    "\n",
    "- **Sparse Tensors:** Sparse tensors are a specialized form of tensors used to efficiently represent and process sparse data, where most of the values are zero. They store only the non-zero elements along with their indices. TensorFlow provides the tf.sparse.SparseTensor class for working with sparse data.\n",
    "\n",
    "- **Ragged Tensors:** Ragged tensors are used to handle sequences or arrays with varying lengths. Unlike regular tensors where all dimensions have fixed sizes, ragged tensors allow for dynamic lengths along one or more dimensions. TensorFlow provides the tf.RaggedTensor class for working with ragged data.\n",
    "\n",
    "- **Datasets:** TensorFlow Datasets (TFDS) is a library that provides pre-processed datasets for machine learning tasks. It provides an abstraction for handling large-scale data efficiently by representing it as a sequence of elements. The tf.data.Dataset class is used to create, transform, and manipulate datasets in TensorFlow.\n",
    "\n",
    "- **Queues:** Queues are used for asynchronous data loading and processing, especially when dealing with large datasets that do not fit entirely in memory. TensorFlow provides various queue implementations, such as tf.queue.FIFOQueue and tf.queue.PaddingFIFOQueue, to facilitate efficient data pipeline management."
   ]
  },
  {
   "cell_type": "markdown",
   "id": "9a1036c3",
   "metadata": {},
   "source": [
    "# Q.2"
   ]
  },
  {
   "cell_type": "markdown",
   "id": "9f870e94",
   "metadata": {},
   "source": [
    "**TensorFlow Constant:**\n",
    "\n",
    "- A constant in TensorFlow represents a fixed value that remains unchanged throughout the execution of a computation graph.\n",
    "- Once a constant is defined, its value cannot be modified.\n",
    "- Constants are typically used for storing fixed input data or hyperparameters that do not require updating during training.\n",
    "- The values of constants are known and explicitly provided during the graph construction.\n",
    "\n",
    "Example:"
   ]
  },
  {
   "cell_type": "code",
   "execution_count": 1,
   "id": "e5403ec4",
   "metadata": {},
   "outputs": [
    {
     "name": "stderr",
     "output_type": "stream",
     "text": [
      "C:\\Users\\ASUS\\anaconda3\\lib\\site-packages\\scipy\\__init__.py:146: UserWarning: A NumPy version >=1.16.5 and <1.23.0 is required for this version of SciPy (detected version 1.24.3\n",
      "  warnings.warn(f\"A NumPy version >={np_minversion} and <{np_maxversion}\"\n"
     ]
    },
    {
     "name": "stdout",
     "output_type": "stream",
     "text": [
      "tf.Tensor(10.0, shape=(), dtype=float32)\n"
     ]
    }
   ],
   "source": [
    "import tensorflow as tf\n",
    "\n",
    "x = tf.constant(5.0)\n",
    "y = x * 2\n",
    "\n",
    "print(y)"
   ]
  },
  {
   "cell_type": "markdown",
   "id": "3c8d7360",
   "metadata": {},
   "source": [
    "**TensorFlow Variable:**\n",
    "\n",
    "- A variable in TensorFlow represents a mutable tensor that can hold values that are updated during the execution of a computation graph.\n",
    "- Variables are typically used for storing learnable parameters, such as weights and biases, in machine learning models.\n",
    "- The values of variables are not known initially and are usually initialized randomly or with specific initialization techniques.\n",
    "- Variables can be modified and updated through operations like assignment (tf.Variable.assign) or using optimizers during training.\n",
    "\n",
    "Example:"
   ]
  },
  {
   "cell_type": "code",
   "execution_count": 2,
   "id": "2b625207",
   "metadata": {},
   "outputs": [
    {
     "name": "stdout",
     "output_type": "stream",
     "text": [
      "<tf.Variable 'Variable:0' shape=() dtype=float32, numpy=5.0>\n",
      "<tf.Variable 'Variable:0' shape=() dtype=float32, numpy=7.0>\n"
     ]
    }
   ],
   "source": [
    "import tensorflow as tf\n",
    "\n",
    "x = tf.Variable(5.0)\n",
    "print(x)\n",
    "\n",
    "#modifying variable\n",
    "x.assign(7.0)\n",
    "print(x)"
   ]
  },
  {
   "cell_type": "markdown",
   "id": "ba0c5569",
   "metadata": {},
   "source": [
    "# Q.3"
   ]
  },
  {
   "cell_type": "markdown",
   "id": "3b1351e0",
   "metadata": {},
   "source": [
    "In TensorFlow, matrix addition, multiplication, and element-wise operations are fundamental operations used for various tasks in machine learning and deep learning. Here's a description of these operations in TensorFlow:\n",
    "\n",
    "**1. Matrix Addition:**\n",
    "\n",
    "Matrix addition involves adding two matrices of the same shape element-wise. In TensorFlow, you can perform matrix addition using the `tf.add()` function or the `+` operator.\n",
    "\n",
    "Example:\n",
    "```python\n",
    "import tensorflow as tf\n",
    "\n",
    "# Define two matrices\n",
    "matrix1 = tf.constant([[1, 2], [3, 4]])\n",
    "matrix2 = tf.constant([[5, 6], [7, 8]])\n",
    "\n",
    "# Perform matrix addition\n",
    "result = tf.add(matrix1, matrix2)\n",
    "```\n",
    "\n",
    "**2. Matrix Multiplication:**\n",
    "\n",
    "Matrix multiplication is the process of multiplying two matrices to produce a new matrix. In TensorFlow, you can perform matrix multiplication using the `tf.matmul()` function or the `@` operator. Note that matrix multiplication has specific rules regarding the dimensions of the matrices being multiplied (inner dimensions must match).\n",
    "\n",
    "Example:\n",
    "```python\n",
    "import tensorflow as tf\n",
    "\n",
    "# Define two matrices\n",
    "matrix1 = tf.constant([[1, 2], [3, 4]])\n",
    "matrix2 = tf.constant([[5, 6], [7, 8]])\n",
    "\n",
    "# Perform matrix multiplication\n",
    "result = tf.matmul(matrix1, matrix2)\n",
    "# or equivalently\n",
    "# result = matrix1 @ matrix2\n",
    "```\n",
    "\n",
    "**3. Element-Wise Operations:**\n",
    "\n",
    "Element-wise operations involve applying an operation to each element of one or more tensors independently. TensorFlow provides element-wise operations for common mathematical functions like addition, subtraction, multiplication, division, exponentiation, etc.\n",
    "\n",
    "Example (Element-Wise Addition):\n",
    "```python\n",
    "import tensorflow as tf\n",
    "\n",
    "# Define two tensors\n",
    "tensor1 = tf.constant([1, 2, 3])\n",
    "tensor2 = tf.constant([4, 5, 6])\n",
    "\n",
    "# Perform element-wise addition\n",
    "result = tf.add(tensor1, tensor2)\n",
    "# or equivalently\n",
    "# result = tensor1 + tensor2\n",
    "```\n",
    "\n",
    "These operations are essential building blocks for constructing and training neural networks in TensorFlow. They can be used to define the mathematical computations involved in forward and backward passes during training, making it a powerful framework for various machine learning tasks."
   ]
  },
  {
   "cell_type": "markdown",
   "id": "35aaf753",
   "metadata": {},
   "source": [
    "# Q.4 to Q.8"
   ]
  },
  {
   "cell_type": "code",
   "execution_count": 3,
   "id": "fdefa966",
   "metadata": {},
   "outputs": [
    {
     "name": "stdout",
     "output_type": "stream",
     "text": [
      "Matrix A using random_normal:  tf.Tensor(\n",
      "[[ 0.26873985  0.21652198]\n",
      " [ 0.923032   -0.16584253]], shape=(2, 2), dtype=float32)\n",
      "Matrix B using truncated_normal:  tf.Tensor(\n",
      "[[-1.5812075   0.5453054 ]\n",
      " [-1.2529873  -0.11775625]], shape=(2, 2), dtype=float32)\n",
      "Matrix C where values are drawn from normal distribution with mean=2 and std. dev=0.2:  tf.Tensor(\n",
      "[[2.0172217 1.8959476]\n",
      " [1.859057  1.8064196]], shape=(2, 2), dtype=float32)\n",
      "Matrix D (A + B):  tf.Tensor(\n",
      "[[-1.3124677   0.76182735]\n",
      " [-0.32995528 -0.28359878]], shape=(2, 2), dtype=float32)\n",
      "Matrix E (C * D):  tf.Tensor(\n",
      "[[-3.273116   0.9990862]\n",
      " [-3.0359898  0.903982 ]], shape=(2, 2), dtype=float32)\n"
     ]
    }
   ],
   "source": [
    "import tensorflow as tf\n",
    "\n",
    "#4: Create matrix A using random_normal\n",
    "A = tf.random.normal(shape=(2, 2))\n",
    "print(\"Matrix A using random_normal: \", A)\n",
    "\n",
    "#5: Create matrix B using truncated_normal\n",
    "B = tf.random.truncated_normal(shape=(2, 2))\n",
    "print(\"Matrix B using truncated_normal: \", B)\n",
    "\n",
    "#6: Create matrix C using random.normal\n",
    "C = tf.random.normal(shape=(2, 2), mean=2, stddev=0.2)\n",
    "print(\"Matrix C where values are drawn from normal distribution with mean=2 and std. dev=0.2: \", C)\n",
    "\n",
    "#7: Perform matrix addition between A and B to get D\n",
    "D = tf.add(A, B)\n",
    "print(\"Matrix D (A + B): \", D)\n",
    "\n",
    "#8: Perform matrix multiplication between C and D to get E\n",
    "E = tf.matmul(C, D)\n",
    "print(\"Matrix E (C * D): \", E)"
   ]
  },
  {
   "cell_type": "markdown",
   "id": "316d87a6",
   "metadata": {},
   "source": [
    "# Q.8 to Q.12"
   ]
  },
  {
   "cell_type": "code",
   "execution_count": 4,
   "id": "e676b1e4",
   "metadata": {},
   "outputs": [
    {
     "name": "stdout",
     "output_type": "stream",
     "text": [
      "Matrix F using random_uniform:  tf.Tensor(\n",
      "[[0.8372592  0.96761835]\n",
      " [0.8917265  0.35838473]], shape=(2, 2), dtype=float32)\n",
      "Matrix G (Transpose of F):  tf.Tensor(\n",
      "[[0.8372592  0.8917265 ]\n",
      " [0.96761835 0.35838473]], shape=(2, 2), dtype=float32)\n",
      "Matrix H (Element-wise Exponential of F):  tf.Tensor(\n",
      "[[2.310027  2.6316693]\n",
      " [2.4393375 1.4310161]], shape=(2, 2), dtype=float32)\n",
      "Matrix I (Horizontal Concatenation of F and G):  tf.Tensor(\n",
      "[[0.8372592  0.96761835 0.8372592  0.8917265 ]\n",
      " [0.8917265  0.35838473 0.96761835 0.35838473]], shape=(2, 4), dtype=float32)\n",
      "Matrix J (Vertical Concatenation of F and H):  tf.Tensor(\n",
      "[[0.8372592  0.96761835]\n",
      " [0.8917265  0.35838473]\n",
      " [2.310027   2.6316693 ]\n",
      " [2.4393375  1.4310161 ]], shape=(4, 2), dtype=float32)\n"
     ]
    }
   ],
   "source": [
    "import tensorflow as tf\n",
    "\n",
    "#8: Create matrix F using random_uniform\n",
    "F = tf.random.uniform(shape=(2, 2))\n",
    "print(\"Matrix F using random_uniform: \", F)\n",
    "\n",
    "#9: Calculate the transpose of F to get G\n",
    "G = tf.transpose(F)\n",
    "print(\"Matrix G (Transpose of F): \", G)\n",
    "\n",
    "#10: Calculate the element-wise exponential of F to get H\n",
    "H = tf.exp(F)\n",
    "print(\"Matrix H (Element-wise Exponential of F): \", H)\n",
    "\n",
    "#11: Create matrix I by concatenating F and G horizontally\n",
    "I = tf.concat([F, G], axis=1)\n",
    "print(\"Matrix I (Horizontal Concatenation of F and G): \", I)\n",
    "\n",
    "#12: Create matrix J by concatenating F and H vertically\n",
    "J = tf.concat([F, H], axis=0)\n",
    "print(\"Matrix J (Vertical Concatenation of F and H): \", J)"
   ]
  }
 ],
 "metadata": {
  "kernelspec": {
   "display_name": "Python 3 (ipykernel)",
   "language": "python",
   "name": "python3"
  },
  "language_info": {
   "codemirror_mode": {
    "name": "ipython",
    "version": 3
   },
   "file_extension": ".py",
   "mimetype": "text/x-python",
   "name": "python",
   "nbconvert_exporter": "python",
   "pygments_lexer": "ipython3",
   "version": "3.9.12"
  }
 },
 "nbformat": 4,
 "nbformat_minor": 5
}
